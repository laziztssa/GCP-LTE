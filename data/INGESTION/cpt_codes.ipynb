{
 "cells": [
  {
   "cell_type": "markdown",
   "id": "ad8dccbf-9723-4dfd-b441-8684eb89d7d0",
   "metadata": {},
   "source": [
    "#### **Chargement des Claims dans Bronze**"
   ]
  },
  {
   "cell_type": "code",
   "execution_count": 1,
   "id": "46549ce3-39df-4516-bea8-ffc86aa25ce3",
   "metadata": {},
   "outputs": [],
   "source": [
    "from pyspark.sql import SparkSession\n",
    "from pyspark.sql.functions import input_file_name, when"
   ]
  },
  {
   "cell_type": "code",
   "execution_count": 2,
   "id": "6fdb2dcc-790b-4b70-af9d-a06c93bf7470",
   "metadata": {},
   "outputs": [],
   "source": [
    "# Create Spark session\n",
    "spark = SparkSession.builder \\\n",
    "                    .appName(\"Healthcare Cpt_codes Ingestion\") \\\n",
    "                    .getOrCreate()"
   ]
  },
  {
   "cell_type": "code",
   "execution_count": 3,
   "id": "d387a1f9-bf76-4609-865f-639e5627161e",
   "metadata": {},
   "outputs": [],
   "source": [
    "BUCKET_NAME = \"healthcare-bucket-lte\"\n",
    "CPT_BUCKET_PATH = f\"gs://{BUCKET_NAME}/landing/cpt_codes/*.csv\"\n",
    "BQ_TABLE = \"gcp-demo-lte.bronze_dataset.cpt_codes\"\n",
    "TEMP_GCS_BUCKET = f\"{BUCKET_NAME}/temp/\"\n",
    "\n"
   ]
  },
  {
   "cell_type": "code",
   "execution_count": 4,
   "id": "d817b355-3ee6-4c66-889c-c8a10cfa5fb7",
   "metadata": {
    "tags": []
   },
   "outputs": [
    {
     "name": "stderr",
     "output_type": "stream",
     "text": [
      "                                                                                \r"
     ]
    }
   ],
   "source": [
    "# read from claims source\n",
    "cpt_codes_df = spark.read.csv(CPT_BUCKET_PATH, header=True) \\\n",
    "                .dropDuplicates()\n",
    "\n",
    "for old_name in cpt_codes_df.columns:\n",
    "    new_name = old_name.replace(\" \", \"_\").lower()\n",
    "    cpt_codes_df = cpt_codes_df.withColumnRenamed(old_name, new_name)"
   ]
  },
  {
   "cell_type": "code",
   "execution_count": 5,
   "id": "5eecb585-1875-4238-a776-a30cefefb2db",
   "metadata": {},
   "outputs": [
    {
     "name": "stderr",
     "output_type": "stream",
     "text": [
      "                                                                                \r"
     ]
    }
   ],
   "source": [
    "# write to bigquery\n",
    "(cpt_codes_df.write\n",
    "            .format(\"bigquery\")\n",
    "            .option(\"table\", BQ_TABLE)\n",
    "            .option(\"temporaryGcsBucket\", TEMP_GCS_BUCKET)\n",
    "            .mode(\"overwrite\")\n",
    "            .option(\"overwriteSchema\", True)\n",
    "            .save())"
   ]
  }
 ],
 "metadata": {
  "kernelspec": {
   "display_name": "PySpark",
   "language": "python",
   "name": "pyspark"
  },
  "language_info": {
   "codemirror_mode": {
    "name": "ipython",
    "version": 3
   },
   "file_extension": ".py",
   "mimetype": "text/x-python",
   "name": "python",
   "nbconvert_exporter": "python",
   "pygments_lexer": "ipython3",
   "version": "3.8.15"
  }
 },
 "nbformat": 4,
 "nbformat_minor": 5
}