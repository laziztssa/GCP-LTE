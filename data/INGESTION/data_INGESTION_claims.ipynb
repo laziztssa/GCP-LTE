{
 "cells": [
  {
   "cell_type": "markdown",
   "id": "ad8dccbf-9723-4dfd-b441-8684eb89d7d0",
   "metadata": {},
   "source": [
    "#### **Chargement des Claims dans Bronze**"
   ]
  },
  {
   "cell_type": "code",
   "execution_count": 1,
   "id": "46549ce3-39df-4516-bea8-ffc86aa25ce3",
   "metadata": {},
   "outputs": [],
   "source": [
    "from pyspark.sql import SparkSession\n",
    "from pyspark.sql.functions import input_file_name, when"
   ]
  },
  {
   "cell_type": "code",
   "execution_count": 2,
   "id": "6fdb2dcc-790b-4b70-af9d-a06c93bf7470",
   "metadata": {},
   "outputs": [],
   "source": [
    "# Create Spark session\n",
    "spark = SparkSession.builder \\\n",
    "                    .appName(\"Healthcare Claims Ingestion\") \\\n",
    "                    .getOrCreate()"
   ]
  },
  {
   "cell_type": "code",
   "execution_count": 3,
   "id": "d387a1f9-bf76-4609-865f-639e5627161e",
   "metadata": {},
   "outputs": [],
   "source": [
    "BUCKET_NAME = \"healthcare-bucket-lte\"\n",
    "CLAIMS_BUCKET_PATH = f\"gs://{BUCKET_NAME}/landing/claims/*.csv\"\n",
    "BQ_TABLE = \"gcp-demo-lte.bronze_dataset.claims\"\n",
    "TEMP_GCS_BUCKET = f\"{BUCKET_NAME}/temp/\"\n"
   ]
  },
  {
   "cell_type": "code",
   "execution_count": 4,
   "id": "d817b355-3ee6-4c66-889c-c8a10cfa5fb7",
   "metadata": {},
   "outputs": [
    {
     "name": "stderr",
     "output_type": "stream",
     "text": [
      "                                                                                \r"
     ]
    }
   ],
   "source": [
    "# read from claims source\n",
    "claims_df = spark.read.csv(CLAIMS_BUCKET_PATH, header=True)\n",
    "\n",
    "# adding hospital source for future reference\n",
    "claims_df = (claims_df\n",
    "                .withColumn(\"datasource\", \n",
    "                              when(input_file_name().contains(\"hospital2\"), \"hosb\")\n",
    "                             .when(input_file_name().contains(\"hospital1\"), \"hosa\").otherwise(\"None\")))\n",
    "\n",
    "# dropping dupplicates if any\n",
    "claims_df = claims_df.dropDuplicates()\n",
    "\n"
   ]
  },
  {
   "cell_type": "code",
   "execution_count": 5,
   "id": "5eecb585-1875-4238-a776-a30cefefb2db",
   "metadata": {},
   "outputs": [
    {
     "name": "stderr",
     "output_type": "stream",
     "text": [
      "                                                                                \r"
     ]
    }
   ],
   "source": [
    "# write to bigquery\n",
    "(claims_df.write\n",
    "            .format(\"bigquery\")\n",
    "            .option(\"table\", BQ_TABLE)\n",
    "            .option(\"temporaryGcsBucket\", TEMP_GCS_BUCKET)\n",
    "            .mode(\"overwrite\")\n",
    "            .option(\"overwriteSchema\", True)\n",
    "            .save())"
   ]
  },
  {
   "cell_type": "code",
   "execution_count": null,
   "id": "7b8abb92-c3ad-4e65-8809-0335946738e3",
   "metadata": {},
   "outputs": [],
   "source": []
  }
 ],
 "metadata": {
  "kernelspec": {
   "display_name": "PySpark",
   "language": "python",
   "name": "pyspark"
  },
  "language_info": {
   "codemirror_mode": {
    "name": "ipython",
    "version": 3
   },
   "file_extension": ".py",
   "mimetype": "text/x-python",
   "name": "python",
   "nbconvert_exporter": "python",
   "pygments_lexer": "ipython3",
   "version": "3.8.15"
  }
 },
 "nbformat": 4,
 "nbformat_minor": 5
}